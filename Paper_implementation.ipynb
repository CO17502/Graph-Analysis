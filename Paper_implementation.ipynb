{
  "nbformat": 4,
  "nbformat_minor": 0,
  "metadata": {
    "colab": {
      "provenance": [],
      "include_colab_link": true
    },
    "kernelspec": {
      "name": "python3",
      "display_name": "Python 3"
    },
    "language_info": {
      "name": "python"
    }
  },
  "cells": [
    {
      "cell_type": "markdown",
      "metadata": {
        "id": "view-in-github",
        "colab_type": "text"
      },
      "source": [
        "<a href=\"https://colab.research.google.com/github/CO17502/Graph-Analysis/blob/main/Paper_implementation.ipynb\" target=\"_parent\"><img src=\"https://colab.research.google.com/assets/colab-badge.svg\" alt=\"Open In Colab\"/></a>"
      ]
    },
    {
      "cell_type": "markdown",
      "source": [
        "**Set covering greedy on NIIPS dataset**"
      ],
      "metadata": {
        "id": "wQ82SAv_uRiE"
      }
    },
    {
      "cell_type": "code",
      "execution_count": null,
      "metadata": {
        "id": "z7oo5FKVt57u"
      },
      "outputs": [],
      "source": [
        "import pandas as pd\n",
        "import numpy as np\n",
        "\n",
        "# load the Papers.csv and Authors.csv datasets into pandas dataframes\n",
        "papers_df = pd.read_csv('Papers.csv')\n",
        "authors_df = pd.read_csv('Authors.csv')\n",
        "\n",
        "# create a dictionary that maps paper IDs to author IDs\n",
        "paper_author_dict = {}\n",
        "for index, row in authors_df.iterrows():\n",
        "    paper_id = row['Id']\n",
        "    author_id = row['Id']\n",
        "    if paper_id in paper_author_dict:\n",
        "        paper_author_dict[paper_id].add(author_id)\n",
        "    else:\n",
        "        paper_author_dict[paper_id] = {author_id}\n",
        "\n",
        "# create a list of all authors\n",
        "all_authors = set(authors_df['Id'])\n",
        "\n",
        "def get_coverage_cost(node_set):\n",
        "    # compute the cost of a set of nodes based on the number of uncovered papers\n",
        "    uncovered_papers = set()\n",
        "    for paper_id, authors in paper_author_dict.items():\n",
        "        if not authors.issubset(node_set):\n",
        "            uncovered_papers.add(paper_id)\n",
        "    return len(uncovered_papers)\n",
        "\n",
        "def greedy_algorithm(k):\n",
        "    # run the set covering greedy algorithm to select k nodes with the highest coverage\n",
        "    seed_set = set()\n",
        "    while len(seed_set) < k:\n",
        "        best_node = None\n",
        "        best_cost = np.inf\n",
        "        for node in all_authors - seed_set:\n",
        "            node_set = seed_set.union({node})\n",
        "            cost = get_coverage_cost(node_set)\n",
        "            if cost < best_cost:\n",
        "                best_node = node\n",
        "                best_cost = cost\n",
        "                print(best_cost)\n",
        "        seed_set.add(best_node)\n",
        "    return seed_set\n",
        "\n",
        "# example usage:\n",
        "k = 10\n",
        "seed_set = greedy_algorithm(k)\n",
        "print(\"Seed set with highest coverage:\", seed_set)\n"
      ]
    },
    {
      "cell_type": "markdown",
      "source": [
        "Example 2"
      ],
      "metadata": {
        "id": "0N0jyGfD-0RS"
      }
    },
    {
      "cell_type": "code",
      "source": [],
      "metadata": {
        "id": "5ZSHd0oH-y6S"
      },
      "execution_count": null,
      "outputs": []
    },
    {
      "cell_type": "markdown",
      "source": [
        "**Enhanced degree centrality on Facebook dataset**"
      ],
      "metadata": {
        "id": "JiQka3O_ufI3"
      }
    },
    {
      "cell_type": "code",
      "source": [
        "import networkx as nx\n",
        "import pandas as pd\n",
        "\n",
        "def enhanced_degree_centrality(G):\n",
        "    n = len(G.nodes())\n",
        "    dc = nx.degree_centrality(G)\n",
        "    ndc = {}\n",
        "    for node in G.nodes():\n",
        "        ndc[node] = sum([dc[neighbor] for neighbor in G.neighbors(node)])\n",
        "    edc = {}\n",
        "    for node in G.nodes():\n",
        "        edc[node] = (dc[node] + ndc[node]) / (2 * n - 1)\n",
        "    return edc\n",
        "\n",
        "\n",
        "def main():\n",
        "  # Read the text file.\n",
        "  with open(\"/content/ca-AstroPh.txt\") as f:\n",
        "    for _ in range(4):\n",
        "      f.readline()\n",
        "    data = f.readlines()\n",
        "\n",
        "    # Create an empty directed graph\n",
        "    G = nx.DiGraph()\n",
        "\n",
        "    # Iterate through the lines of the file\n",
        "    for line in data:\n",
        "      # Split the line into the source and target nodes\n",
        "      source, target = line.strip().split()\n",
        "\n",
        "      # Add an edge to the graph\n",
        "      G.add_edge(source, target)\n",
        "\n",
        "  # Close the file\n",
        "  f.close()\n",
        "\n",
        "  # Calculate EDC scores for all nodes in the graph\n",
        "  edc_scores = enhanced_degree_centrality(G)\n",
        "\n",
        "  # Print the top 10 most influential nodes based on EDC scores\n",
        "  top_nodes = sorted(edc_scores.items(), key=lambda x: x[1], reverse=True)[:10]\n",
        "  for node, score in top_nodes:\n",
        "    print(\"Node {}: EDC score = {}\".format(node, score))\n",
        "\n",
        "main()\n"
      ],
      "metadata": {
        "id": "b_5DjxYJug28"
      },
      "execution_count": null,
      "outputs": []
    }
  ]
}